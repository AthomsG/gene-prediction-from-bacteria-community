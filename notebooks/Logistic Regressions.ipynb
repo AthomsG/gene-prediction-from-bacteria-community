{
 "cells": [
  {
   "cell_type": "code",
   "execution_count": 9,
   "id": "515d3cfe-0a02-4f30-ac16-bbee2e6b404a",
   "metadata": {},
   "outputs": [
    {
     "data": {
      "text/plain": [
       "<torch._C.Generator at 0x7f055c82c4d0>"
      ]
     },
     "execution_count": 9,
     "metadata": {},
     "output_type": "execute_result"
    }
   ],
   "source": [
    "import pandas as pd\n",
    "import numpy as np\n",
    "import matplotlib.pyplot as plt\n",
    "\n",
    "import torch \n",
    "from torch.utils.data import TensorDataset, DataLoader\n",
    "import torch.nn as nn\n",
    "import torch.optim as optim\n",
    "\n",
    "torch.manual_seed(42)"
   ]
  },
  {
   "cell_type": "code",
   "execution_count": 2,
   "id": "5efa2d21-e33b-4d8f-a056-54ff2da32b15",
   "metadata": {},
   "outputs": [],
   "source": [
    "# import data\n",
    "df_species = pd.read_parquet('../processed_data/species_coverage.parquet')\n",
    "\n",
    "df_genes   = pd.read_parquet('../processed_data/gene_coverage.parquet')\n",
    "df_genes = df_genes.set_index(\"Sample\")\n",
    "\n",
    "# match indexes\n",
    "df_species = df_species.reindex(df_genes.index)"
   ]
  },
  {
   "cell_type": "markdown",
   "id": "12bb65f5-96eb-42f5-9dfb-0d8f1e276dbf",
   "metadata": {},
   "source": [
    "# Data Processing"
   ]
  },
  {
   "cell_type": "code",
   "execution_count": 3,
   "id": "c6763312-4767-493c-bc8f-62630a5579a3",
   "metadata": {},
   "outputs": [],
   "source": [
    "count_species = (df_species > 0).sum(0)\n",
    "count_genes = (df_genes > 0).sum(0)\n",
    "\n",
    "# remove columns that rarely show up\n",
    "threshold = 100\n",
    "\n",
    "species_keep = count_species[count_species >= threshold].index\n",
    "genes_keep = count_genes[count_genes >= threshold].index\n",
    "\n",
    "df_species = df_species[species_keep]\n",
    "df_genes = df_genes[genes_keep]\n",
    "\n",
    "del species_keep\n",
    "del genes_keep"
   ]
  },
  {
   "cell_type": "markdown",
   "id": "788be8d6-b133-4604-9b81-a539dfeac6a6",
   "metadata": {},
   "source": [
    "# Logistic Regression"
   ]
  },
  {
   "cell_type": "code",
   "execution_count": 4,
   "id": "a710552b-f719-4f97-aa8d-007d84cf7609",
   "metadata": {},
   "outputs": [],
   "source": [
    "# convert genes to binary for logistic regression\n",
    "df_genes_binary = (df_genes > 0).astype(int)\n",
    "\n",
    "del df_genes"
   ]
  },
  {
   "cell_type": "code",
   "execution_count": 5,
   "id": "9378ad98-3e41-4f10-89ce-d60cc8e0a3ab",
   "metadata": {},
   "outputs": [],
   "source": [
    "# for future reference\n",
    "species_names = df_species.columns.tolist()\n",
    "gene_names = df_genes_binary.columns.tolist()\n",
    "\n",
    "#  -- tensors --\n",
    "X = torch.tensor(df_species.values, dtype=torch.float32)  # Species as input\n",
    "y = torch.tensor(df_genes_binary.values, dtype=torch.float32)  # Genes as output\n",
    "\n",
    "# train val test split\n",
    "total_samples = X.shape[0]\n",
    "train_size = int(0.8 * total_samples)\n",
    "val_size = int(0.1 * total_samples)\n",
    "test_size = total_samples - train_size - val_size  # Ensures all samples are used\n",
    "\n",
    "indices = torch.randperm(total_samples)\n",
    "\n",
    "train_indices = indices[:train_size]\n",
    "val_indices = indices[train_size:train_size + val_size]\n",
    "test_indices = indices[train_size + val_size:]\n",
    "\n",
    "X_train, y_train = X[train_indices], y[train_indices]\n",
    "X_val, y_val = X[val_indices], y[val_indices]\n",
    "X_test, y_test = X[test_indices], y[test_indices]\n",
    "\n",
    "# -- datasets and loaders --\n",
    "train_dataset = TensorDataset(X_train, y_train)\n",
    "val_dataset = TensorDataset(X_val, y_val)\n",
    "test_dataset = TensorDataset(X_test, y_test)\n",
    "\n",
    "train_loader = DataLoader(train_dataset, batch_size=32, shuffle=True)\n",
    "val_loader = DataLoader(val_dataset, batch_size=32, shuffle=False)\n",
    "test_loader = DataLoader(test_dataset, batch_size=32, shuffle=False)"
   ]
  },
  {
   "cell_type": "code",
   "execution_count": 6,
   "id": "28cd6f4f-146a-42db-82bc-dd833ca87361",
   "metadata": {},
   "outputs": [],
   "source": [
    "class LogisticRegressionModel(nn.Module):\n",
    "    def __init__(self, input_size, output_size):\n",
    "        super(LogisticRegressionModel, self).__init__()\n",
    "        self.linear = nn.Linear(input_size, output_size)\n",
    "\n",
    "    def forward(self, x):\n",
    "        return torch.sigmoid(self.linear(x))"
   ]
  },
  {
   "cell_type": "code",
   "execution_count": 7,
   "id": "9f59cd42-1ca6-474a-b15d-180f12b3a3b2",
   "metadata": {},
   "outputs": [
    {
     "name": "stdout",
     "output_type": "stream",
     "text": [
      "Epoch [1/5], Train Loss: 5.6883, Val Loss: 4.0221\n",
      "Epoch [2/5], Train Loss: 4.1619, Val Loss: 3.9909\n",
      "Epoch [3/5], Train Loss: 4.0021, Val Loss: 4.1588\n",
      "Epoch [4/5], Train Loss: 3.9391, Val Loss: 4.1296\n",
      "Epoch [5/5], Train Loss: 4.0019, Val Loss: 4.1117\n"
     ]
    }
   ],
   "source": [
    "input_size = X.shape[1]  # Number of species\n",
    "output_size = y.shape[1]  # Number of genes\n",
    "model = LogisticRegressionModel(input_size, output_size)\n",
    "\n",
    "# loss function and optimizer\n",
    "criterion = nn.BCELoss()\n",
    "optimizer = optim.Adam(model.parameters(), lr=0.01)\n",
    "\n",
    "# train loop\n",
    "epochs = 5\n",
    "train_losses = []\n",
    "val_losses = []\n",
    "\n",
    "for epoch in range(epochs):\n",
    "    model.train()\n",
    "    train_loss = 0\n",
    "\n",
    "    for batch_X, batch_y in train_loader:\n",
    "        optimizer.zero_grad()\n",
    "        outputs = model(batch_X)\n",
    "        loss = criterion(outputs, batch_y)\n",
    "        loss.backward()\n",
    "        optimizer.step()\n",
    "        train_loss += loss.item()\n",
    "\n",
    "    # average training loss\n",
    "    train_loss /= len(train_loader)\n",
    "    train_losses.append(train_loss)\n",
    "\n",
    "    # val\n",
    "    model.eval()\n",
    "    val_loss = 0\n",
    "\n",
    "    with torch.no_grad():\n",
    "        for batch_X, batch_y in val_loader:\n",
    "            outputs = model(batch_X)\n",
    "            loss = criterion(outputs, batch_y)\n",
    "            val_loss += loss.item()\n",
    "\n",
    "    # average val loss\n",
    "    val_loss /= len(val_loader)\n",
    "    val_losses.append(val_loss)\n",
    "\n",
    "    print(f\"Epoch [{epoch+1}/{epochs}], Train Loss: {train_loss:.4f}, Val Loss: {val_loss:.4f}\")"
   ]
  },
  {
   "cell_type": "code",
   "execution_count": 10,
   "id": "17f881e5-fb94-4528-9c4c-975a8d31f4ef",
   "metadata": {},
   "outputs": [
    {
     "data": {
      "image/png": "[encoded data removed]",
      "text/plain": [
       "<Figure size 640x480 with 1 Axes>"
      ]
     },
     "metadata": {},
     "output_type": "display_data"
    }
   ],
   "source": [
    "plt.plot(range(1, epochs+1), train_losses, label=\"Train Loss\")\n",
    "plt.plot(range(1, epochs+1), val_losses, label=\"Validation Loss\")\n",
    "plt.xlabel(\"Epochs\")\n",
    "plt.ylabel(\"Loss\")\n",
    "plt.legend()\n",
    "plt.title(\"Training vs Validation Loss\")\n",
    "plt.show()"
   ]
  }
 ],
 "metadata": {
  "kernelspec": {
   "display_name": "Python 3 (ipykernel)",
   "language": "python",
   "name": "python3"
  },
  "language_info": {
   "codemirror_mode": {
    "name": "ipython",
    "version": 3
   },
   "file_extension": ".py",
   "mimetype": "text/x-python",
   "name": "python",
   "nbconvert_exporter": "python",
   "pygments_lexer": "ipython3",
   "version": "3.9.21"
  }
 },
 "nbformat": 4,
 "nbformat_minor": 5
}
